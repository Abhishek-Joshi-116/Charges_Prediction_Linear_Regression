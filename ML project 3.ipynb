{
 "cells": [
  {
   "cell_type": "markdown",
   "id": "de6e495b",
   "metadata": {},
   "source": [
    "# Part-1: Data Exploration and Pre-processing"
   ]
  },
  {
   "cell_type": "code",
   "execution_count": 1,
   "id": "8c972a63",
   "metadata": {},
   "outputs": [],
   "source": [
    "import pandas as pd\n",
    "import numpy as np\n",
    "import seaborn as sns\n",
    "import matplotlib.pyplot as plt\n",
    "%matplotlib inline"
   ]
  },
  {
   "cell_type": "code",
   "execution_count": null,
   "id": "85f0d9ac",
   "metadata": {},
   "outputs": [],
   "source": []
  },
  {
   "cell_type": "markdown",
   "id": "0848d3c7",
   "metadata": {},
   "source": [
    "1) Load the given dataset"
   ]
  },
  {
   "cell_type": "code",
   "execution_count": 2,
   "id": "84d1e819",
   "metadata": {},
   "outputs": [],
   "source": [
    "df=pd.read_csv(\"Python_Linear_Regres.csv\")"
   ]
  },
  {
   "cell_type": "code",
   "execution_count": 3,
   "id": "3fcf2027",
   "metadata": {},
   "outputs": [
    {
     "data": {
      "text/html": [
       "<div>\n",
       "<style scoped>\n",
       "    .dataframe tbody tr th:only-of-type {\n",
       "        vertical-align: middle;\n",
       "    }\n",
       "\n",
       "    .dataframe tbody tr th {\n",
       "        vertical-align: top;\n",
       "    }\n",
       "\n",
       "    .dataframe thead th {\n",
       "        text-align: right;\n",
       "    }\n",
       "</style>\n",
       "<table border=\"1\" class=\"dataframe\">\n",
       "  <thead>\n",
       "    <tr style=\"text-align: right;\">\n",
       "      <th></th>\n",
       "      <th>age</th>\n",
       "      <th>sex</th>\n",
       "      <th>bmi</th>\n",
       "      <th>children</th>\n",
       "      <th>smoker</th>\n",
       "      <th>region</th>\n",
       "      <th>charges</th>\n",
       "    </tr>\n",
       "  </thead>\n",
       "  <tbody>\n",
       "    <tr>\n",
       "      <th>0</th>\n",
       "      <td>19</td>\n",
       "      <td>female</td>\n",
       "      <td>27.900</td>\n",
       "      <td>0</td>\n",
       "      <td>yes</td>\n",
       "      <td>southwest</td>\n",
       "      <td>16884.92400</td>\n",
       "    </tr>\n",
       "    <tr>\n",
       "      <th>1</th>\n",
       "      <td>18</td>\n",
       "      <td>male</td>\n",
       "      <td>33.770</td>\n",
       "      <td>1</td>\n",
       "      <td>no</td>\n",
       "      <td>southeast</td>\n",
       "      <td>1725.55230</td>\n",
       "    </tr>\n",
       "    <tr>\n",
       "      <th>2</th>\n",
       "      <td>28</td>\n",
       "      <td>male</td>\n",
       "      <td>33.000</td>\n",
       "      <td>3</td>\n",
       "      <td>no</td>\n",
       "      <td>southeast</td>\n",
       "      <td>4449.46200</td>\n",
       "    </tr>\n",
       "    <tr>\n",
       "      <th>3</th>\n",
       "      <td>33</td>\n",
       "      <td>male</td>\n",
       "      <td>22.705</td>\n",
       "      <td>0</td>\n",
       "      <td>no</td>\n",
       "      <td>northwest</td>\n",
       "      <td>21984.47061</td>\n",
       "    </tr>\n",
       "    <tr>\n",
       "      <th>4</th>\n",
       "      <td>32</td>\n",
       "      <td>male</td>\n",
       "      <td>28.880</td>\n",
       "      <td>0</td>\n",
       "      <td>no</td>\n",
       "      <td>northwest</td>\n",
       "      <td>3866.85520</td>\n",
       "    </tr>\n",
       "  </tbody>\n",
       "</table>\n",
       "</div>"
      ],
      "text/plain": [
       "   age     sex     bmi  children smoker     region      charges\n",
       "0   19  female  27.900         0    yes  southwest  16884.92400\n",
       "1   18    male  33.770         1     no  southeast   1725.55230\n",
       "2   28    male  33.000         3     no  southeast   4449.46200\n",
       "3   33    male  22.705         0     no  northwest  21984.47061\n",
       "4   32    male  28.880         0     no  northwest   3866.85520"
      ]
     },
     "execution_count": 3,
     "metadata": {},
     "output_type": "execute_result"
    }
   ],
   "source": [
    "df.head()"
   ]
  },
  {
   "cell_type": "code",
   "execution_count": null,
   "id": "8f65c3ce",
   "metadata": {},
   "outputs": [],
   "source": []
  },
  {
   "cell_type": "markdown",
   "id": "2e3dd13a",
   "metadata": {},
   "source": [
    "2) Fill Null value of children column with the value 0"
   ]
  },
  {
   "cell_type": "code",
   "execution_count": 4,
   "id": "908f6bd2",
   "metadata": {},
   "outputs": [
    {
     "data": {
      "text/plain": [
       "age         0\n",
       "sex         0\n",
       "bmi         0\n",
       "children    0\n",
       "smoker      0\n",
       "region      0\n",
       "charges     0\n",
       "dtype: int64"
      ]
     },
     "execution_count": 4,
     "metadata": {},
     "output_type": "execute_result"
    }
   ],
   "source": [
    "df.isnull().sum()"
   ]
  },
  {
   "cell_type": "code",
   "execution_count": null,
   "id": "5d168bbd",
   "metadata": {},
   "outputs": [],
   "source": []
  },
  {
   "cell_type": "markdown",
   "id": "8f539d16",
   "metadata": {},
   "source": [
    "3) Replace the Null values of the column bmi with mean value"
   ]
  },
  {
   "cell_type": "code",
   "execution_count": 5,
   "id": "1b718ab9",
   "metadata": {},
   "outputs": [
    {
     "data": {
      "text/plain": [
       "age         0\n",
       "sex         0\n",
       "bmi         0\n",
       "children    0\n",
       "smoker      0\n",
       "region      0\n",
       "charges     0\n",
       "dtype: int64"
      ]
     },
     "execution_count": 5,
     "metadata": {},
     "output_type": "execute_result"
    }
   ],
   "source": [
    "df.isnull().sum()"
   ]
  },
  {
   "cell_type": "code",
   "execution_count": null,
   "id": "a6a62383",
   "metadata": {},
   "outputs": [],
   "source": []
  },
  {
   "cell_type": "markdown",
   "id": "f14ef43b",
   "metadata": {},
   "source": [
    "4) Display a scatter plot between age and children"
   ]
  },
  {
   "cell_type": "code",
   "execution_count": 6,
   "id": "3a5a6dcd",
   "metadata": {},
   "outputs": [
    {
     "data": {
      "image/png": "[encoded data removed]",
      "text/plain": [
       "<Figure size 720x360 with 1 Axes>"
      ]
     },
     "metadata": {
      "needs_background": "light"
     },
     "output_type": "display_data"
    }
   ],
   "source": [
    "plt.figure(figsize=(10,5))\n",
    "sns.scatterplot(y=\"age\",x=\"children\",data=df);"
   ]
  },
  {
   "cell_type": "code",
   "execution_count": null,
   "id": "8ee6bc77",
   "metadata": {},
   "outputs": [],
   "source": []
  },
  {
   "cell_type": "markdown",
   "id": "1f041f42",
   "metadata": {},
   "source": [
    "5) Display bar plot between bmi and children"
   ]
  },
  {
   "cell_type": "code",
   "execution_count": 7,
   "id": "1e19e5c4",
   "metadata": {},
   "outputs": [
    {
     "data": {
      "image/png": "[encoded data removed]",
      "text/plain": [
       "<Figure size 720x360 with 1 Axes>"
      ]
     },
     "metadata": {
      "needs_background": "light"
     },
     "output_type": "display_data"
    }
   ],
   "source": [
    "plt.figure(figsize=(10,5))\n",
    "sns.barplot(y=\"bmi\",x=\"children\",data=df);"
   ]
  },
  {
   "cell_type": "code",
   "execution_count": null,
   "id": "a9a5f7bd",
   "metadata": {},
   "outputs": [],
   "source": []
  },
  {
   "cell_type": "markdown",
   "id": "5251605f",
   "metadata": {},
   "source": [
    "6) Perform encoding to convert character data into numerical data"
   ]
  },
  {
   "cell_type": "code",
   "execution_count": 8,
   "id": "6fb9c34a",
   "metadata": {},
   "outputs": [
    {
     "data": {
      "text/html": [
       "<div>\n",
       "<style scoped>\n",
       "    .dataframe tbody tr th:only-of-type {\n",
       "        vertical-align: middle;\n",
       "    }\n",
       "\n",
       "    .dataframe tbody tr th {\n",
       "        vertical-align: top;\n",
       "    }\n",
       "\n",
       "    .dataframe thead th {\n",
       "        text-align: right;\n",
       "    }\n",
       "</style>\n",
       "<table border=\"1\" class=\"dataframe\">\n",
       "  <thead>\n",
       "    <tr style=\"text-align: right;\">\n",
       "      <th></th>\n",
       "      <th>age</th>\n",
       "      <th>sex</th>\n",
       "      <th>bmi</th>\n",
       "      <th>children</th>\n",
       "      <th>smoker</th>\n",
       "      <th>region</th>\n",
       "      <th>charges</th>\n",
       "    </tr>\n",
       "  </thead>\n",
       "  <tbody>\n",
       "    <tr>\n",
       "      <th>0</th>\n",
       "      <td>19</td>\n",
       "      <td>female</td>\n",
       "      <td>27.90</td>\n",
       "      <td>0</td>\n",
       "      <td>yes</td>\n",
       "      <td>southwest</td>\n",
       "      <td>16884.9240</td>\n",
       "    </tr>\n",
       "    <tr>\n",
       "      <th>1</th>\n",
       "      <td>18</td>\n",
       "      <td>male</td>\n",
       "      <td>33.77</td>\n",
       "      <td>1</td>\n",
       "      <td>no</td>\n",
       "      <td>southeast</td>\n",
       "      <td>1725.5523</td>\n",
       "    </tr>\n",
       "  </tbody>\n",
       "</table>\n",
       "</div>"
      ],
      "text/plain": [
       "   age     sex    bmi  children smoker     region     charges\n",
       "0   19  female  27.90         0    yes  southwest  16884.9240\n",
       "1   18    male  33.77         1     no  southeast   1725.5523"
      ]
     },
     "execution_count": 8,
     "metadata": {},
     "output_type": "execute_result"
    }
   ],
   "source": [
    "df.head(2)"
   ]
  },
  {
   "cell_type": "code",
   "execution_count": 9,
   "id": "51974cca",
   "metadata": {},
   "outputs": [],
   "source": [
    "df=pd.get_dummies(df)"
   ]
  },
  {
   "cell_type": "code",
   "execution_count": 10,
   "id": "532ade02",
   "metadata": {},
   "outputs": [
    {
     "data": {
      "text/html": [
       "<div>\n",
       "<style scoped>\n",
       "    .dataframe tbody tr th:only-of-type {\n",
       "        vertical-align: middle;\n",
       "    }\n",
       "\n",
       "    .dataframe tbody tr th {\n",
       "        vertical-align: top;\n",
       "    }\n",
       "\n",
       "    .dataframe thead th {\n",
       "        text-align: right;\n",
       "    }\n",
       "</style>\n",
       "<table border=\"1\" class=\"dataframe\">\n",
       "  <thead>\n",
       "    <tr style=\"text-align: right;\">\n",
       "      <th></th>\n",
       "      <th>age</th>\n",
       "      <th>bmi</th>\n",
       "      <th>children</th>\n",
       "      <th>charges</th>\n",
       "      <th>sex_female</th>\n",
       "      <th>sex_male</th>\n",
       "      <th>smoker_no</th>\n",
       "      <th>smoker_yes</th>\n",
       "      <th>region_northeast</th>\n",
       "      <th>region_northwest</th>\n",
       "      <th>region_southeast</th>\n",
       "      <th>region_southwest</th>\n",
       "    </tr>\n",
       "  </thead>\n",
       "  <tbody>\n",
       "    <tr>\n",
       "      <th>0</th>\n",
       "      <td>19</td>\n",
       "      <td>27.90</td>\n",
       "      <td>0</td>\n",
       "      <td>16884.9240</td>\n",
       "      <td>1</td>\n",
       "      <td>0</td>\n",
       "      <td>0</td>\n",
       "      <td>1</td>\n",
       "      <td>0</td>\n",
       "      <td>0</td>\n",
       "      <td>0</td>\n",
       "      <td>1</td>\n",
       "    </tr>\n",
       "    <tr>\n",
       "      <th>1</th>\n",
       "      <td>18</td>\n",
       "      <td>33.77</td>\n",
       "      <td>1</td>\n",
       "      <td>1725.5523</td>\n",
       "      <td>0</td>\n",
       "      <td>1</td>\n",
       "      <td>1</td>\n",
       "      <td>0</td>\n",
       "      <td>0</td>\n",
       "      <td>0</td>\n",
       "      <td>1</td>\n",
       "      <td>0</td>\n",
       "    </tr>\n",
       "  </tbody>\n",
       "</table>\n",
       "</div>"
      ],
      "text/plain": [
       "   age    bmi  children     charges  sex_female  sex_male  smoker_no  \\\n",
       "0   19  27.90         0  16884.9240           1         0          0   \n",
       "1   18  33.77         1   1725.5523           0         1          1   \n",
       "\n",
       "   smoker_yes  region_northeast  region_northwest  region_southeast  \\\n",
       "0           1                 0                 0                 0   \n",
       "1           0                 0                 0                 1   \n",
       "\n",
       "   region_southwest  \n",
       "0                 1  \n",
       "1                 0  "
      ]
     },
     "execution_count": 10,
     "metadata": {},
     "output_type": "execute_result"
    }
   ],
   "source": [
    "df.head(2)"
   ]
  },
  {
   "cell_type": "code",
   "execution_count": null,
   "id": "e0d284ed",
   "metadata": {},
   "outputs": [],
   "source": []
  },
  {
   "cell_type": "markdown",
   "id": "6fdd14d2",
   "metadata": {},
   "source": [
    "7) Perform scaling"
   ]
  },
  {
   "cell_type": "code",
   "execution_count": 11,
   "id": "07644140",
   "metadata": {},
   "outputs": [],
   "source": [
    "from sklearn.preprocessing import MinMaxScaler"
   ]
  },
  {
   "cell_type": "code",
   "execution_count": 12,
   "id": "98ebf4a6",
   "metadata": {},
   "outputs": [],
   "source": [
    "mms=MinMaxScaler()"
   ]
  },
  {
   "cell_type": "code",
   "execution_count": 13,
   "id": "b4ea1506",
   "metadata": {},
   "outputs": [],
   "source": [
    "df_mms=pd.DataFrame(mms.fit_transform(df),columns=df.columns)"
   ]
  },
  {
   "cell_type": "code",
   "execution_count": 14,
   "id": "2555a2ac",
   "metadata": {},
   "outputs": [
    {
     "data": {
      "text/html": [
       "<div>\n",
       "<style scoped>\n",
       "    .dataframe tbody tr th:only-of-type {\n",
       "        vertical-align: middle;\n",
       "    }\n",
       "\n",
       "    .dataframe tbody tr th {\n",
       "        vertical-align: top;\n",
       "    }\n",
       "\n",
       "    .dataframe thead th {\n",
       "        text-align: right;\n",
       "    }\n",
       "</style>\n",
       "<table border=\"1\" class=\"dataframe\">\n",
       "  <thead>\n",
       "    <tr style=\"text-align: right;\">\n",
       "      <th></th>\n",
       "      <th>age</th>\n",
       "      <th>bmi</th>\n",
       "      <th>children</th>\n",
       "      <th>charges</th>\n",
       "      <th>sex_female</th>\n",
       "      <th>sex_male</th>\n",
       "      <th>smoker_no</th>\n",
       "      <th>smoker_yes</th>\n",
       "      <th>region_northeast</th>\n",
       "      <th>region_northwest</th>\n",
       "      <th>region_southeast</th>\n",
       "      <th>region_southwest</th>\n",
       "    </tr>\n",
       "  </thead>\n",
       "  <tbody>\n",
       "    <tr>\n",
       "      <th>0</th>\n",
       "      <td>0.021739</td>\n",
       "      <td>0.321227</td>\n",
       "      <td>0.0</td>\n",
       "      <td>0.251611</td>\n",
       "      <td>1.0</td>\n",
       "      <td>0.0</td>\n",
       "      <td>0.0</td>\n",
       "      <td>1.0</td>\n",
       "      <td>0.0</td>\n",
       "      <td>0.0</td>\n",
       "      <td>0.0</td>\n",
       "      <td>1.0</td>\n",
       "    </tr>\n",
       "    <tr>\n",
       "      <th>1</th>\n",
       "      <td>0.000000</td>\n",
       "      <td>0.479150</td>\n",
       "      <td>0.2</td>\n",
       "      <td>0.009636</td>\n",
       "      <td>0.0</td>\n",
       "      <td>1.0</td>\n",
       "      <td>1.0</td>\n",
       "      <td>0.0</td>\n",
       "      <td>0.0</td>\n",
       "      <td>0.0</td>\n",
       "      <td>1.0</td>\n",
       "      <td>0.0</td>\n",
       "    </tr>\n",
       "    <tr>\n",
       "      <th>2</th>\n",
       "      <td>0.217391</td>\n",
       "      <td>0.458434</td>\n",
       "      <td>0.6</td>\n",
       "      <td>0.053115</td>\n",
       "      <td>0.0</td>\n",
       "      <td>1.0</td>\n",
       "      <td>1.0</td>\n",
       "      <td>0.0</td>\n",
       "      <td>0.0</td>\n",
       "      <td>0.0</td>\n",
       "      <td>1.0</td>\n",
       "      <td>0.0</td>\n",
       "    </tr>\n",
       "    <tr>\n",
       "      <th>3</th>\n",
       "      <td>0.326087</td>\n",
       "      <td>0.181464</td>\n",
       "      <td>0.0</td>\n",
       "      <td>0.333010</td>\n",
       "      <td>0.0</td>\n",
       "      <td>1.0</td>\n",
       "      <td>1.0</td>\n",
       "      <td>0.0</td>\n",
       "      <td>0.0</td>\n",
       "      <td>1.0</td>\n",
       "      <td>0.0</td>\n",
       "      <td>0.0</td>\n",
       "    </tr>\n",
       "    <tr>\n",
       "      <th>4</th>\n",
       "      <td>0.304348</td>\n",
       "      <td>0.347592</td>\n",
       "      <td>0.0</td>\n",
       "      <td>0.043816</td>\n",
       "      <td>0.0</td>\n",
       "      <td>1.0</td>\n",
       "      <td>1.0</td>\n",
       "      <td>0.0</td>\n",
       "      <td>0.0</td>\n",
       "      <td>1.0</td>\n",
       "      <td>0.0</td>\n",
       "      <td>0.0</td>\n",
       "    </tr>\n",
       "  </tbody>\n",
       "</table>\n",
       "</div>"
      ],
      "text/plain": [
       "        age       bmi  children   charges  sex_female  sex_male  smoker_no  \\\n",
       "0  0.021739  0.321227       0.0  0.251611         1.0       0.0        0.0   \n",
       "1  0.000000  0.479150       0.2  0.009636         0.0       1.0        1.0   \n",
       "2  0.217391  0.458434       0.6  0.053115         0.0       1.0        1.0   \n",
       "3  0.326087  0.181464       0.0  0.333010         0.0       1.0        1.0   \n",
       "4  0.304348  0.347592       0.0  0.043816         0.0       1.0        1.0   \n",
       "\n",
       "   smoker_yes  region_northeast  region_northwest  region_southeast  \\\n",
       "0         1.0               0.0               0.0               0.0   \n",
       "1         0.0               0.0               0.0               1.0   \n",
       "2         0.0               0.0               0.0               1.0   \n",
       "3         0.0               0.0               1.0               0.0   \n",
       "4         0.0               0.0               1.0               0.0   \n",
       "\n",
       "   region_southwest  \n",
       "0               1.0  \n",
       "1               0.0  \n",
       "2               0.0  \n",
       "3               0.0  \n",
       "4               0.0  "
      ]
     },
     "execution_count": 14,
     "metadata": {},
     "output_type": "execute_result"
    }
   ],
   "source": [
    "df_mms.head()"
   ]
  },
  {
   "cell_type": "code",
   "execution_count": null,
   "id": "dfed468d",
   "metadata": {},
   "outputs": [],
   "source": []
  },
  {
   "cell_type": "markdown",
   "id": "2e1d317c",
   "metadata": {},
   "source": [
    "# Part-2: Working with Models"
   ]
  },
  {
   "cell_type": "code",
   "execution_count": null,
   "id": "1fc32693",
   "metadata": {},
   "outputs": [],
   "source": []
  },
  {
   "cell_type": "markdown",
   "id": "5a587248",
   "metadata": {},
   "source": [
    "1) Separate feature data from target data"
   ]
  },
  {
   "cell_type": "code",
   "execution_count": 15,
   "id": "0e299d27",
   "metadata": {},
   "outputs": [],
   "source": [
    "X=df_mms.drop(\"charges\",axis=1)\n",
    "y=df_mms[\"charges\"]"
   ]
  },
  {
   "cell_type": "code",
   "execution_count": 16,
   "id": "8bfbb4b1",
   "metadata": {},
   "outputs": [
    {
     "data": {
      "text/html": [
       "<div>\n",
       "<style scoped>\n",
       "    .dataframe tbody tr th:only-of-type {\n",
       "        vertical-align: middle;\n",
       "    }\n",
       "\n",
       "    .dataframe tbody tr th {\n",
       "        vertical-align: top;\n",
       "    }\n",
       "\n",
       "    .dataframe thead th {\n",
       "        text-align: right;\n",
       "    }\n",
       "</style>\n",
       "<table border=\"1\" class=\"dataframe\">\n",
       "  <thead>\n",
       "    <tr style=\"text-align: right;\">\n",
       "      <th></th>\n",
       "      <th>age</th>\n",
       "      <th>bmi</th>\n",
       "      <th>children</th>\n",
       "      <th>sex_female</th>\n",
       "      <th>sex_male</th>\n",
       "      <th>smoker_no</th>\n",
       "      <th>smoker_yes</th>\n",
       "      <th>region_northeast</th>\n",
       "      <th>region_northwest</th>\n",
       "      <th>region_southeast</th>\n",
       "      <th>region_southwest</th>\n",
       "    </tr>\n",
       "  </thead>\n",
       "  <tbody>\n",
       "    <tr>\n",
       "      <th>0</th>\n",
       "      <td>0.021739</td>\n",
       "      <td>0.321227</td>\n",
       "      <td>0.0</td>\n",
       "      <td>1.0</td>\n",
       "      <td>0.0</td>\n",
       "      <td>0.0</td>\n",
       "      <td>1.0</td>\n",
       "      <td>0.0</td>\n",
       "      <td>0.0</td>\n",
       "      <td>0.0</td>\n",
       "      <td>1.0</td>\n",
       "    </tr>\n",
       "    <tr>\n",
       "      <th>1</th>\n",
       "      <td>0.000000</td>\n",
       "      <td>0.479150</td>\n",
       "      <td>0.2</td>\n",
       "      <td>0.0</td>\n",
       "      <td>1.0</td>\n",
       "      <td>1.0</td>\n",
       "      <td>0.0</td>\n",
       "      <td>0.0</td>\n",
       "      <td>0.0</td>\n",
       "      <td>1.0</td>\n",
       "      <td>0.0</td>\n",
       "    </tr>\n",
       "    <tr>\n",
       "      <th>2</th>\n",
       "      <td>0.217391</td>\n",
       "      <td>0.458434</td>\n",
       "      <td>0.6</td>\n",
       "      <td>0.0</td>\n",
       "      <td>1.0</td>\n",
       "      <td>1.0</td>\n",
       "      <td>0.0</td>\n",
       "      <td>0.0</td>\n",
       "      <td>0.0</td>\n",
       "      <td>1.0</td>\n",
       "      <td>0.0</td>\n",
       "    </tr>\n",
       "    <tr>\n",
       "      <th>3</th>\n",
       "      <td>0.326087</td>\n",
       "      <td>0.181464</td>\n",
       "      <td>0.0</td>\n",
       "      <td>0.0</td>\n",
       "      <td>1.0</td>\n",
       "      <td>1.0</td>\n",
       "      <td>0.0</td>\n",
       "      <td>0.0</td>\n",
       "      <td>1.0</td>\n",
       "      <td>0.0</td>\n",
       "      <td>0.0</td>\n",
       "    </tr>\n",
       "    <tr>\n",
       "      <th>4</th>\n",
       "      <td>0.304348</td>\n",
       "      <td>0.347592</td>\n",
       "      <td>0.0</td>\n",
       "      <td>0.0</td>\n",
       "      <td>1.0</td>\n",
       "      <td>1.0</td>\n",
       "      <td>0.0</td>\n",
       "      <td>0.0</td>\n",
       "      <td>1.0</td>\n",
       "      <td>0.0</td>\n",
       "      <td>0.0</td>\n",
       "    </tr>\n",
       "  </tbody>\n",
       "</table>\n",
       "</div>"
      ],
      "text/plain": [
       "        age       bmi  children  sex_female  sex_male  smoker_no  smoker_yes  \\\n",
       "0  0.021739  0.321227       0.0         1.0       0.0        0.0         1.0   \n",
       "1  0.000000  0.479150       0.2         0.0       1.0        1.0         0.0   \n",
       "2  0.217391  0.458434       0.6         0.0       1.0        1.0         0.0   \n",
       "3  0.326087  0.181464       0.0         0.0       1.0        1.0         0.0   \n",
       "4  0.304348  0.347592       0.0         0.0       1.0        1.0         0.0   \n",
       "\n",
       "   region_northeast  region_northwest  region_southeast  region_southwest  \n",
       "0               0.0               0.0               0.0               1.0  \n",
       "1               0.0               0.0               1.0               0.0  \n",
       "2               0.0               0.0               1.0               0.0  \n",
       "3               0.0               1.0               0.0               0.0  \n",
       "4               0.0               1.0               0.0               0.0  "
      ]
     },
     "execution_count": 16,
     "metadata": {},
     "output_type": "execute_result"
    }
   ],
   "source": [
    "X.head()"
   ]
  },
  {
   "cell_type": "code",
   "execution_count": 17,
   "id": "858e3e31",
   "metadata": {},
   "outputs": [
    {
     "data": {
      "text/plain": [
       "0    0.251611\n",
       "1    0.009636\n",
       "2    0.053115\n",
       "3    0.333010\n",
       "4    0.043816\n",
       "Name: charges, dtype: float64"
      ]
     },
     "execution_count": 17,
     "metadata": {},
     "output_type": "execute_result"
    }
   ],
   "source": [
    "y.head()"
   ]
  },
  {
   "cell_type": "code",
   "execution_count": null,
   "id": "96772645",
   "metadata": {},
   "outputs": [],
   "source": []
  },
  {
   "cell_type": "markdown",
   "id": "ea00f593",
   "metadata": {},
   "source": [
    "2) Create a Linear regression model between Features and target data"
   ]
  },
  {
   "cell_type": "code",
   "execution_count": 18,
   "id": "1ae2664f",
   "metadata": {},
   "outputs": [],
   "source": [
    "from sklearn.model_selection import train_test_split"
   ]
  },
  {
   "cell_type": "code",
   "execution_count": 19,
   "id": "34ea9eb0",
   "metadata": {},
   "outputs": [],
   "source": [
    "X_train, X_test, y_train, y_test = train_test_split(X,y,test_size=0.2,random_state=10)"
   ]
  },
  {
   "cell_type": "code",
   "execution_count": 20,
   "id": "b9d73156",
   "metadata": {},
   "outputs": [
    {
     "data": {
      "text/html": [
       "<div>\n",
       "<style scoped>\n",
       "    .dataframe tbody tr th:only-of-type {\n",
       "        vertical-align: middle;\n",
       "    }\n",
       "\n",
       "    .dataframe tbody tr th {\n",
       "        vertical-align: top;\n",
       "    }\n",
       "\n",
       "    .dataframe thead th {\n",
       "        text-align: right;\n",
       "    }\n",
       "</style>\n",
       "<table border=\"1\" class=\"dataframe\">\n",
       "  <thead>\n",
       "    <tr style=\"text-align: right;\">\n",
       "      <th></th>\n",
       "      <th>age</th>\n",
       "      <th>bmi</th>\n",
       "      <th>children</th>\n",
       "      <th>sex_female</th>\n",
       "      <th>sex_male</th>\n",
       "      <th>smoker_no</th>\n",
       "      <th>smoker_yes</th>\n",
       "      <th>region_northeast</th>\n",
       "      <th>region_northwest</th>\n",
       "      <th>region_southeast</th>\n",
       "      <th>region_southwest</th>\n",
       "    </tr>\n",
       "  </thead>\n",
       "  <tbody>\n",
       "    <tr>\n",
       "      <th>559</th>\n",
       "      <td>0.021739</td>\n",
       "      <td>0.526500</td>\n",
       "      <td>0.0</td>\n",
       "      <td>0.0</td>\n",
       "      <td>1.0</td>\n",
       "      <td>1.0</td>\n",
       "      <td>0.0</td>\n",
       "      <td>0.0</td>\n",
       "      <td>1.0</td>\n",
       "      <td>0.0</td>\n",
       "      <td>0.0</td>\n",
       "    </tr>\n",
       "    <tr>\n",
       "      <th>273</th>\n",
       "      <td>0.695652</td>\n",
       "      <td>0.309255</td>\n",
       "      <td>0.2</td>\n",
       "      <td>0.0</td>\n",
       "      <td>1.0</td>\n",
       "      <td>1.0</td>\n",
       "      <td>0.0</td>\n",
       "      <td>1.0</td>\n",
       "      <td>0.0</td>\n",
       "      <td>0.0</td>\n",
       "      <td>0.0</td>\n",
       "    </tr>\n",
       "    <tr>\n",
       "      <th>471</th>\n",
       "      <td>0.000000</td>\n",
       "      <td>0.380818</td>\n",
       "      <td>0.0</td>\n",
       "      <td>1.0</td>\n",
       "      <td>0.0</td>\n",
       "      <td>1.0</td>\n",
       "      <td>0.0</td>\n",
       "      <td>1.0</td>\n",
       "      <td>0.0</td>\n",
       "      <td>0.0</td>\n",
       "      <td>0.0</td>\n",
       "    </tr>\n",
       "    <tr>\n",
       "      <th>22</th>\n",
       "      <td>0.000000</td>\n",
       "      <td>0.488028</td>\n",
       "      <td>0.0</td>\n",
       "      <td>0.0</td>\n",
       "      <td>1.0</td>\n",
       "      <td>1.0</td>\n",
       "      <td>0.0</td>\n",
       "      <td>0.0</td>\n",
       "      <td>0.0</td>\n",
       "      <td>1.0</td>\n",
       "      <td>0.0</td>\n",
       "    </tr>\n",
       "    <tr>\n",
       "      <th>939</th>\n",
       "      <td>0.760870</td>\n",
       "      <td>0.363734</td>\n",
       "      <td>0.0</td>\n",
       "      <td>0.0</td>\n",
       "      <td>1.0</td>\n",
       "      <td>1.0</td>\n",
       "      <td>0.0</td>\n",
       "      <td>0.0</td>\n",
       "      <td>0.0</td>\n",
       "      <td>1.0</td>\n",
       "      <td>0.0</td>\n",
       "    </tr>\n",
       "  </tbody>\n",
       "</table>\n",
       "</div>"
      ],
      "text/plain": [
       "          age       bmi  children  sex_female  sex_male  smoker_no  \\\n",
       "559  0.021739  0.526500       0.0         0.0       1.0        1.0   \n",
       "273  0.695652  0.309255       0.2         0.0       1.0        1.0   \n",
       "471  0.000000  0.380818       0.0         1.0       0.0        1.0   \n",
       "22   0.000000  0.488028       0.0         0.0       1.0        1.0   \n",
       "939  0.760870  0.363734       0.0         0.0       1.0        1.0   \n",
       "\n",
       "     smoker_yes  region_northeast  region_northwest  region_southeast  \\\n",
       "559         0.0               0.0               1.0               0.0   \n",
       "273         0.0               1.0               0.0               0.0   \n",
       "471         0.0               1.0               0.0               0.0   \n",
       "22          0.0               0.0               0.0               1.0   \n",
       "939         0.0               0.0               0.0               1.0   \n",
       "\n",
       "     region_southwest  \n",
       "559               0.0  \n",
       "273               0.0  \n",
       "471               0.0  \n",
       "22                0.0  \n",
       "939               0.0  "
      ]
     },
     "execution_count": 20,
     "metadata": {},
     "output_type": "execute_result"
    }
   ],
   "source": [
    "X_train.head()"
   ]
  },
  {
   "cell_type": "code",
   "execution_count": 21,
   "id": "46901fa5",
   "metadata": {},
   "outputs": [
    {
     "data": {
      "text/plain": [
       "559    0.008373\n",
       "273    0.135610\n",
       "471    0.017265\n",
       "22     0.000242\n",
       "939    0.133535\n",
       "Name: charges, dtype: float64"
      ]
     },
     "execution_count": 21,
     "metadata": {},
     "output_type": "execute_result"
    }
   ],
   "source": [
    "y_train.head()"
   ]
  },
  {
   "cell_type": "code",
   "execution_count": 22,
   "id": "bd531ea4",
   "metadata": {},
   "outputs": [],
   "source": [
    "from sklearn.linear_model import LinearRegression"
   ]
  },
  {
   "cell_type": "code",
   "execution_count": 23,
   "id": "aa120b43",
   "metadata": {},
   "outputs": [],
   "source": [
    "model=LinearRegression()"
   ]
  },
  {
   "cell_type": "code",
   "execution_count": 24,
   "id": "50487370",
   "metadata": {},
   "outputs": [
    {
     "data": {
      "text/plain": [
       "LinearRegression()"
      ]
     },
     "execution_count": 24,
     "metadata": {},
     "output_type": "execute_result"
    }
   ],
   "source": [
    "model.fit(X_train, y_train)"
   ]
  },
  {
   "cell_type": "code",
   "execution_count": 25,
   "id": "3e07b3e2",
   "metadata": {},
   "outputs": [],
   "source": [
    "y_predict=model.predict(X_test)"
   ]
  },
  {
   "cell_type": "code",
   "execution_count": 26,
   "id": "a3ddac5c",
   "metadata": {},
   "outputs": [
    {
     "data": {
      "text/plain": [
       "array([ 0.11165358,  0.07667652,  0.227334  ,  0.15883835,  0.04285804,\n",
       "        0.13589508,  0.12751203,  0.39263948,  0.09955417,  0.47261134,\n",
       "        0.0101498 ,  0.04901906,  0.09986283,  0.16180463,  0.18898598,\n",
       "        0.16004603,  0.06857529,  0.27646474,  0.1545054 ,  0.4758472 ,\n",
       "        0.52772756,  0.05282204,  0.00195681,  0.09884049,  0.04752468,\n",
       "        0.19712467,  0.17386236,  0.1467503 ,  0.08700857,  0.47995644,\n",
       "       -0.04454355,  0.52807492,  0.13036403,  0.09940064,  0.10898051,\n",
       "        0.17136562,  0.19799786,  0.18740753,  0.14041874,  0.11920083,\n",
       "        0.23345058,  0.13939507,  0.07078772,  0.16695439,  0.06713393,\n",
       "        0.09499379,  0.08656166,  0.52943079,  0.15865457,  0.15257525,\n",
       "        0.50902853,  0.06737302,  0.15017354,  0.21606727,  0.15696711,\n",
       "        0.19135014,  0.176649  ,  0.1059581 ,  0.10598938,  0.53750385,\n",
       "       -0.006922  ,  0.5148425 ,  0.57414094,  0.00312209,  0.42822372,\n",
       "        0.14218111,  0.07701981,  0.13155284,  0.11515305,  0.10842207,\n",
       "        0.09857009,  0.01319878,  0.11409326,  0.13704614,  0.12024365,\n",
       "        0.18734659,  0.08253999,  0.15680138, -0.03421713,  0.1878801 ,\n",
       "        0.16266124,  0.18338797,  0.40417718,  0.01611356,  0.52118059,\n",
       "        0.0497829 ,  0.02312295,  0.03973539,  0.13152804,  0.12699994,\n",
       "        0.49329301,  0.50331546,  0.13134813,  0.59316288,  0.19973181,\n",
       "        0.08391825,  0.0946474 ,  0.21177593,  0.09071177,  0.15159607,\n",
       "        0.11056789,  0.0233706 ,  0.02823781,  0.09433904,  0.1463057 ,\n",
       "        0.13856914,  0.4753837 ,  0.46021185,  0.46235312,  0.04677835,\n",
       "        0.15131434,  0.10898592,  0.08557061,  0.40255977,  0.46503717,\n",
       "        0.4827622 ,  0.06677822,  0.54851934,  0.08228435,  0.03674568,\n",
       "        0.52430635,  0.16152671,  0.08900495,  0.06375617,  0.60454239,\n",
       "        0.0708524 ,  0.20475935,  0.12976538,  0.09201614,  0.17160935,\n",
       "        0.16485458,  0.55487035,  0.41591934,  0.53889657,  0.18073711,\n",
       "        0.47013186,  0.17965243,  0.18363999,  0.44175419,  0.06831854,\n",
       "        0.11162928,  0.49010427,  0.2016481 ,  0.05060797,  0.04934577,\n",
       "        0.46069258,  0.20615106,  0.1308259 ,  0.1763041 ,  0.03815188,\n",
       "        0.09871539,  0.05303788,  0.01518966,  0.59737535,  0.1981098 ,\n",
       "        0.04543838,  0.21559519, -0.03390536,  0.22758737,  0.55952976,\n",
       "        0.1610516 ,  0.0921876 ,  0.10609511,  0.173236  ,  0.05865732,\n",
       "        0.62365397,  0.14663945,  0.14655184,  0.0147862 ,  0.15318533,\n",
       "        0.17701089,  0.14436101,  0.09759008,  0.17285249,  0.44657332,\n",
       "        0.11177843, -0.00747184,  0.17587275,  0.1379925 ,  0.23296436,\n",
       "        0.6018667 ,  0.15718839,  0.07006963,  0.07767177,  0.42505507,\n",
       "        0.09890377,  0.55399173,  0.13486437,  0.46915292,  0.00276096,\n",
       "        0.11400376,  0.12822777,  0.09736291,  0.13482256,  0.20096485,\n",
       "        0.16592527,  0.37029923,  0.02754603,  0.14759325,  0.08996914,\n",
       "        0.08455938, -0.01655821,  0.2368526 ,  0.20223906,  0.03028303,\n",
       "        0.57562474,  0.42294939,  0.23209427,  0.50056684,  0.06323627,\n",
       "        0.13891346,  0.50528003,  0.12123811,  0.1292098 ,  0.49803465,\n",
       "        0.08217709,  0.13444439, -0.00281045,  0.21913019,  0.18584883,\n",
       "        0.09731763,  0.09729001, -0.00500267,  0.20552606, -0.02147663,\n",
       "        0.3975274 ,  0.20592723,  0.05507795,  0.11410256,  0.44721337,\n",
       "        0.07482259,  0.39248692,  0.10224326,  0.4631848 ,  0.16455086,\n",
       "        0.06336504,  0.15601145,  0.58148845, -0.04348186,  0.21399543,\n",
       "        0.1508948 ,  0.42950096,  0.15428753,  0.50493929,  0.16299471,\n",
       "        0.03103755,  0.18675229,  0.11444589,  0.18900534, -0.00916963,\n",
       "        0.13932301,  0.17836355,  0.52021852,  0.06601198,  0.14897491,\n",
       "        0.17167082,  0.13337371,  0.07372394, -0.02074175,  0.24033409,\n",
       "        0.03262751,  0.53716677,  0.11964964,  0.56744821,  0.11019569,\n",
       "        0.02167174,  0.24191272,  0.15477379])"
      ]
     },
     "execution_count": 26,
     "metadata": {},
     "output_type": "execute_result"
    }
   ],
   "source": [
    "y_predict"
   ]
  },
  {
   "cell_type": "code",
   "execution_count": 27,
   "id": "0314ff0c",
   "metadata": {},
   "outputs": [
    {
     "data": {
      "text/plain": [
       "7       0.098320\n",
       "999     0.066178\n",
       "1209    0.179179\n",
       "491     0.373372\n",
       "625     0.041734\n",
       "          ...   \n",
       "271     0.666176\n",
       "695     0.033191\n",
       "1039    0.341138\n",
       "323     0.166715\n",
       "835     0.096386\n",
       "Name: charges, Length: 268, dtype: float64"
      ]
     },
     "execution_count": 27,
     "metadata": {},
     "output_type": "execute_result"
    }
   ],
   "source": [
    "y_test"
   ]
  },
  {
   "cell_type": "code",
   "execution_count": null,
   "id": "0e5ca757",
   "metadata": {},
   "outputs": [],
   "source": []
  },
  {
   "cell_type": "markdown",
   "id": "a7850e34",
   "metadata": {},
   "source": [
    "3) Display the test score and training score"
   ]
  },
  {
   "cell_type": "code",
   "execution_count": 28,
   "id": "a983e7dc",
   "metadata": {},
   "outputs": [],
   "source": [
    "from sklearn.metrics import r2_score"
   ]
  },
  {
   "cell_type": "code",
   "execution_count": 29,
   "id": "a50f2b35",
   "metadata": {},
   "outputs": [
    {
     "data": {
      "text/plain": [
       "0.7636624681782705"
      ]
     },
     "execution_count": 29,
     "metadata": {},
     "output_type": "execute_result"
    }
   ],
   "source": [
    "model.score(X_train, y_train)"
   ]
  },
  {
   "cell_type": "code",
   "execution_count": 30,
   "id": "280efc2e",
   "metadata": {},
   "outputs": [
    {
     "data": {
      "text/plain": [
       "0.6953286838318304"
      ]
     },
     "execution_count": 30,
     "metadata": {},
     "output_type": "execute_result"
    }
   ],
   "source": [
    "model.score(X_test, y_test)"
   ]
  },
  {
   "cell_type": "code",
   "execution_count": null,
   "id": "9057be3e",
   "metadata": {},
   "outputs": [],
   "source": []
  },
  {
   "cell_type": "markdown",
   "id": "9c3f2cdf",
   "metadata": {},
   "source": [
    "4) Extract slope and intercept value from the model"
   ]
  },
  {
   "cell_type": "code",
   "execution_count": 31,
   "id": "ab88e32b",
   "metadata": {},
   "outputs": [
    {
     "data": {
      "text/plain": [
       "array([ 0.19057389,  0.20946072,  0.04336008,  0.00203036, -0.00203036,\n",
       "       -0.19253524,  0.19253524,  0.00680952,  0.00374476, -0.00749462,\n",
       "       -0.00305966])"
      ]
     },
     "execution_count": 31,
     "metadata": {},
     "output_type": "execute_result"
    }
   ],
   "source": [
    "model.coef_"
   ]
  },
  {
   "cell_type": "code",
   "execution_count": 32,
   "id": "8cfc769c",
   "metadata": {},
   "outputs": [
    {
     "data": {
      "text/plain": [
       "0.12729959313683298"
      ]
     },
     "execution_count": 32,
     "metadata": {},
     "output_type": "execute_result"
    }
   ],
   "source": [
    "model.intercept_"
   ]
  },
  {
   "cell_type": "code",
   "execution_count": null,
   "id": "daa3715c",
   "metadata": {},
   "outputs": [],
   "source": []
  },
  {
   "cell_type": "markdown",
   "id": "c0653fef",
   "metadata": {},
   "source": [
    "5) Display Mean Squared Error"
   ]
  },
  {
   "cell_type": "code",
   "execution_count": 33,
   "id": "4efededf",
   "metadata": {},
   "outputs": [],
   "source": [
    "from sklearn.metrics import mean_squared_error"
   ]
  },
  {
   "cell_type": "code",
   "execution_count": 34,
   "id": "f7b0c920",
   "metadata": {},
   "outputs": [],
   "source": [
    "mse=mean_squared_error(y_test,y_predict)"
   ]
  },
  {
   "cell_type": "code",
   "execution_count": 35,
   "id": "4b36d93d",
   "metadata": {},
   "outputs": [
    {
     "data": {
      "text/plain": [
       "0.010887157229690324"
      ]
     },
     "execution_count": 35,
     "metadata": {},
     "output_type": "execute_result"
    }
   ],
   "source": [
    "mse"
   ]
  },
  {
   "cell_type": "code",
   "execution_count": null,
   "id": "8142d576",
   "metadata": {},
   "outputs": [],
   "source": []
  },
  {
   "cell_type": "markdown",
   "id": "759e04cc",
   "metadata": {},
   "source": [
    "6) Display Mean Absolute Error"
   ]
  },
  {
   "cell_type": "code",
   "execution_count": 36,
   "id": "573d7064",
   "metadata": {},
   "outputs": [],
   "source": [
    "from sklearn.metrics import mean_absolute_error"
   ]
  },
  {
   "cell_type": "code",
   "execution_count": 37,
   "id": "77e80fb3",
   "metadata": {},
   "outputs": [],
   "source": [
    "mae=mean_absolute_error(y_test,y_predict)"
   ]
  },
  {
   "cell_type": "code",
   "execution_count": 38,
   "id": "317baf58",
   "metadata": {},
   "outputs": [
    {
     "data": {
      "text/plain": [
       "0.07270875836201114"
      ]
     },
     "execution_count": 38,
     "metadata": {},
     "output_type": "execute_result"
    }
   ],
   "source": [
    "mae"
   ]
  },
  {
   "cell_type": "code",
   "execution_count": null,
   "id": "a44fa8ef",
   "metadata": {},
   "outputs": [],
   "source": []
  },
  {
   "cell_type": "markdown",
   "id": "843667fc",
   "metadata": {},
   "source": [
    "7) Display Root mean Squared error"
   ]
  },
  {
   "cell_type": "code",
   "execution_count": 39,
   "id": "70fe8b34",
   "metadata": {},
   "outputs": [],
   "source": [
    "rmse=np.sqrt(mse)"
   ]
  },
  {
   "cell_type": "code",
   "execution_count": 40,
   "id": "d817ad79",
   "metadata": {},
   "outputs": [
    {
     "data": {
      "text/plain": [
       "0.1043415412464773"
      ]
     },
     "execution_count": 40,
     "metadata": {},
     "output_type": "execute_result"
    }
   ],
   "source": [
    "rmse"
   ]
  },
  {
   "cell_type": "code",
   "execution_count": null,
   "id": "ebc27cf5",
   "metadata": {},
   "outputs": [],
   "source": []
  },
  {
   "cell_type": "markdown",
   "id": "76ab60fe",
   "metadata": {},
   "source": [
    "8) Display R2 score"
   ]
  },
  {
   "cell_type": "code",
   "execution_count": 42,
   "id": "70bae78d",
   "metadata": {},
   "outputs": [],
   "source": [
    "from sklearn.metrics import r2_score"
   ]
  },
  {
   "cell_type": "code",
   "execution_count": 43,
   "id": "a99e7aae",
   "metadata": {},
   "outputs": [],
   "source": [
    "r2 = r2_score(y_test,y_predict)"
   ]
  },
  {
   "cell_type": "code",
   "execution_count": 44,
   "id": "ea7e913d",
   "metadata": {},
   "outputs": [
    {
     "data": {
      "text/plain": [
       "0.6953286838318304"
      ]
     },
     "execution_count": 44,
     "metadata": {},
     "output_type": "execute_result"
    }
   ],
   "source": [
    "r2"
   ]
  },
  {
   "cell_type": "code",
   "execution_count": null,
   "id": "7f1f054e",
   "metadata": {},
   "outputs": [],
   "source": []
  }
 ],
 "metadata": {
  "kernelspec": {
   "display_name": "Python 3 (ipykernel)",
   "language": "python",
   "name": "python3"
  },
  "language_info": {
   "codemirror_mode": {
    "name": "ipython",
    "version": 3
   },
   "file_extension": ".py",
   "mimetype": "text/x-python",
   "name": "python",
   "nbconvert_exporter": "python",
   "pygments_lexer": "ipython3",
   "version": "3.9.7"
  }
 },
 "nbformat": 4,
 "nbformat_minor": 5
}
